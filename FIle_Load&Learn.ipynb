{
 "cells": [
  {
   "cell_type": "code",
   "execution_count": 503,
   "id": "da5b6018-6433-42f2-9712-b4d14c60abac",
   "metadata": {},
   "outputs": [],
   "source": [
    "import torch\n",
    "import torch.nn as nn\n",
    "from torchviz import make_dot, make_dot_from_trace\n",
    "import numpy as np\n",
    "import matplotlib.pyplot as plt\n",
    "from sklearn.utils import shuffle\n",
    "import entrezpy.conduit"
   ]
  },
  {
   "cell_type": "code",
   "execution_count": 504,
   "id": "aebad71f-c8a4-4d2b-85c5-f8f2bf2478b2",
   "metadata": {},
   "outputs": [],
   "source": [
    "def read_sequences_from_file(file_name):\n",
    "    with open(file_name, 'r') as f:\n",
    "        lines = f.read().replace(\"\\n\", \"\")\n",
    "    sequences_list = lines.split(\",\")\n",
    "    return sequences_list"
   ]
  },
  {
   "cell_type": "code",
   "execution_count": 505,
   "id": "c9cedf17-39dd-402c-a153-0a57ad130209",
   "metadata": {},
   "outputs": [],
   "source": [
    "pathogenic_sequences_list = read_sequences_from_file(\"Pathogenic2.txt\")"
   ]
  },
  {
   "cell_type": "code",
   "execution_count": 506,
   "id": "e80c48ac-e7a1-4567-834d-32c210d9b3ae",
   "metadata": {},
   "outputs": [
    {
     "data": {
      "text/plain": [
       "19"
      ]
     },
     "execution_count": 506,
     "metadata": {},
     "output_type": "execute_result"
    }
   ],
   "source": [
    "len(pathogenic_sequences_list)"
   ]
  },
  {
   "cell_type": "code",
   "execution_count": 507,
   "id": "736dab92-2f40-46ce-b585-b5a6c8c66888",
   "metadata": {},
   "outputs": [
    {
     "name": "stdout",
     "output_type": "stream",
     "text": [
      "AGCAATACTCTGTCGCAAAA\n"
     ]
    }
   ],
   "source": [
    "print(pathogenic_sequences_list[0][:20])"
   ]
  },
  {
   "cell_type": "code",
   "execution_count": 508,
   "id": "42836f19-0402-47bf-a52b-5b536fc09444",
   "metadata": {},
   "outputs": [],
   "source": [
    "benign_sequences_list = read_sequences_from_file(\"Benign2.txt\")"
   ]
  },
  {
   "cell_type": "code",
   "execution_count": 509,
   "id": "d4e81597-e7f5-4559-bfa4-9ae25f09b27a",
   "metadata": {},
   "outputs": [
    {
     "name": "stdout",
     "output_type": "stream",
     "text": [
      "AGACCAGCCTACACAATATG\n"
     ]
    }
   ],
   "source": [
    "print(benign_sequences_list[0][:20])"
   ]
  },
  {
   "cell_type": "code",
   "execution_count": 510,
   "id": "1a466c36-4221-4918-b834-06f5d7e6ac1f",
   "metadata": {},
   "outputs": [
    {
     "data": {
      "text/plain": [
       "19"
      ]
     },
     "execution_count": 510,
     "metadata": {},
     "output_type": "execute_result"
    }
   ],
   "source": [
    "len(benign_sequences_list)"
   ]
  },
  {
   "cell_type": "code",
   "execution_count": 511,
   "id": "0c20885f-217c-41b0-af0e-ef0ed8ef721c",
   "metadata": {},
   "outputs": [],
   "source": [
    "notreported_sequences_list = read_sequences_from_file(\"Unknown1.txt\")"
   ]
  },
  {
   "cell_type": "code",
   "execution_count": 512,
   "id": "0252e71d-3e20-4b40-8656-bc8fef004cfb",
   "metadata": {},
   "outputs": [
    {
     "data": {
      "text/plain": [
       "10"
      ]
     },
     "execution_count": 512,
     "metadata": {},
     "output_type": "execute_result"
    }
   ],
   "source": [
    "len(notreported_sequences_list)"
   ]
  },
  {
   "cell_type": "code",
   "execution_count": 513,
   "id": "719283ff-3219-44e8-a9d4-1da3a2d70c5e",
   "metadata": {},
   "outputs": [],
   "source": [
    "file_pathogenicity = [1,0]"
   ]
  },
  {
   "cell_type": "code",
   "execution_count": 514,
   "id": "82cb9d07-4fa6-44c2-861b-eb62cd5750d4",
   "metadata": {},
   "outputs": [],
   "source": [
    "file_pathogenicity_data = [pathogenic_sequences_list, benign_sequences_list]"
   ]
  },
  {
   "cell_type": "code",
   "execution_count": 515,
   "id": "55982017-aa86-4d94-bcbc-08ceea86751a",
   "metadata": {},
   "outputs": [],
   "source": [
    "all_sequences_data = []\n",
    "all_sequences_data_target = []"
   ]
  },
  {
   "cell_type": "code",
   "execution_count": 516,
   "id": "9d936f65-0868-49ab-8a06-66b18acc7e1e",
   "metadata": {},
   "outputs": [],
   "source": [
    "for i in range(len(file_pathogenicity_data)):\n",
    "    current_sequence_list = file_pathogenicity_data[i]\n",
    "    for sequence in current_sequence_list:\n",
    "        all_sequences_data.append(sequence)\n",
    "        all_sequences_data_target.append(file_pathogenicity[i])"
   ]
  },
  {
   "cell_type": "code",
   "execution_count": 517,
   "id": "1f3d9912-d85a-425d-b830-457f38162b73",
   "metadata": {},
   "outputs": [
    {
     "name": "stdout",
     "output_type": "stream",
     "text": [
      "38\n",
      "38\n"
     ]
    }
   ],
   "source": [
    "print(len(all_sequences_data))\n",
    "print(len(all_sequences_data_target))"
   ]
  },
  {
   "cell_type": "code",
   "execution_count": 518,
   "id": "b3a512fd-6a7d-4871-b8d7-fec5f17c9cbc",
   "metadata": {},
   "outputs": [
    {
     "name": "stdout",
     "output_type": "stream",
     "text": [
      "TAACATGTACATTTTTATTC\n"
     ]
    }
   ],
   "source": [
    "print(all_sequences_data[5][:20])"
   ]
  },
  {
   "cell_type": "code",
   "execution_count": 519,
   "id": "558c6840-c9b7-45b3-8c8f-cbf73cc03e46",
   "metadata": {},
   "outputs": [
    {
     "name": "stdout",
     "output_type": "stream",
     "text": [
      "[1, 1, 1, 1, 1, 1, 1, 1, 1, 1, 1, 1, 1, 1, 1, 1, 1, 1, 1, 0, 0, 0, 0, 0, 0, 0, 0, 0, 0, 0, 0, 0, 0, 0, 0, 0, 0, 0]\n"
     ]
    }
   ],
   "source": [
    "print(all_sequences_data_target)"
   ]
  },
  {
   "cell_type": "code",
   "execution_count": 520,
   "id": "fede41ee-c92f-40ba-a13a-987f3947e61a",
   "metadata": {},
   "outputs": [],
   "source": [
    "sequence_lengths = []\n",
    "for s in all_sequences_data:\n",
    "    sequence_lengths.append(len(s))"
   ]
  },
  {
   "cell_type": "code",
   "execution_count": 521,
   "id": "9d2a6ff0-664c-4abb-8949-67ddd1de4c7a",
   "metadata": {},
   "outputs": [],
   "source": [
    "average_sequence_length = np.mean(sequence_lengths)"
   ]
  },
  {
   "cell_type": "code",
   "execution_count": 522,
   "id": "3b651ad7-c6a5-480a-a3b1-b52ca00d7ad9",
   "metadata": {},
   "outputs": [
    {
     "name": "stdout",
     "output_type": "stream",
     "text": [
      "2001.921052631579\n"
     ]
    }
   ],
   "source": [
    "print(average_sequence_length)"
   ]
  },
  {
   "cell_type": "code",
   "execution_count": 523,
   "id": "ec5ebeed-9c1c-4efc-93f8-2512020a0583",
   "metadata": {},
   "outputs": [],
   "source": [
    "median_sequence_length = np.median(sequence_lengths)"
   ]
  },
  {
   "cell_type": "code",
   "execution_count": 524,
   "id": "a397d681-1466-438b-9886-584aabe08a01",
   "metadata": {},
   "outputs": [
    {
     "name": "stdout",
     "output_type": "stream",
     "text": [
      "2001.0\n"
     ]
    }
   ],
   "source": [
    "print(median_sequence_length)"
   ]
  },
  {
   "cell_type": "code",
   "execution_count": 525,
   "id": "ef608c73-dfcc-4d2f-8c84-ff84f0043d72",
   "metadata": {},
   "outputs": [],
   "source": [
    "min_length = np.min(sequence_lengths)\n",
    "max_length = np.max(sequence_lengths)"
   ]
  },
  {
   "cell_type": "code",
   "execution_count": 526,
   "id": "b8a7efc1-8dc1-44d6-aa92-447e2bda8b01",
   "metadata": {},
   "outputs": [
    {
     "name": "stdout",
     "output_type": "stream",
     "text": [
      "1981\n",
      "2012\n"
     ]
    }
   ],
   "source": [
    "print(min_length)\n",
    "print(max_length)"
   ]
  },
  {
   "cell_type": "code",
   "execution_count": 527,
   "id": "57e34d1f-2819-475f-b366-5c4f3056188c",
   "metadata": {},
   "outputs": [
    {
     "name": "stdout",
     "output_type": "stream",
     "text": [
      "[2001, 2008, 2001, 2005, 2001, 2012, 2001, 2000, 2008, 2001, 2001, 2005, 2001, 2001, 2008, 2012, 2001, 2001, 2006, 2001, 2001, 1981, 2001, 2001, 2001, 2001, 2001, 2001, 2001, 2001, 2001, 2001, 2001, 2001, 2001, 2001, 2001, 2001]\n"
     ]
    }
   ],
   "source": [
    "print(sequence_lengths)"
   ]
  },
  {
   "cell_type": "code",
   "execution_count": 528,
   "id": "ac85ee84-9711-4481-a3d8-fd73b05d477f",
   "metadata": {},
   "outputs": [
    {
     "data": {
      "text/plain": [
       "19"
      ]
     },
     "execution_count": 528,
     "metadata": {},
     "output_type": "execute_result"
    }
   ],
   "source": [
    "np.sum(all_sequences_data_target)"
   ]
  },
  {
   "cell_type": "code",
   "execution_count": 529,
   "id": "37d3dd01-3f5c-460a-86f3-ecc2a70daeeb",
   "metadata": {},
   "outputs": [
    {
     "name": "stdout",
     "output_type": "stream",
     "text": [
      "38\n"
     ]
    }
   ],
   "source": [
    "print(len(sequence_lengths))"
   ]
  },
  {
   "cell_type": "code",
   "execution_count": 530,
   "id": "69e4e7ee-763b-4e0e-aa1b-3813f37ccc44",
   "metadata": {},
   "outputs": [],
   "source": [
    "def convert_to_num(sequence):\n",
    "    letter_to_num_map = {\"A\":1, \"C\":2, \"T\":3, \"G\":4, \"N\":5}\n",
    "    converted_sequence = [letter_to_num_map[x] for x in sequence]\n",
    "    return converted_sequence"
   ]
  },
  {
   "cell_type": "code",
   "execution_count": 531,
   "id": "ac538cc9-26c2-4c0e-8e89-3c57558b9904",
   "metadata": {
    "tags": []
   },
   "outputs": [
    {
     "data": {
      "text/plain": [
       "[1,\n",
       " 2,\n",
       " 3,\n",
       " 4,\n",
       " 3,\n",
       " 4,\n",
       " 3,\n",
       " 4,\n",
       " 3,\n",
       " 4,\n",
       " 3,\n",
       " 4,\n",
       " 2,\n",
       " 4,\n",
       " 4,\n",
       " 1,\n",
       " 4,\n",
       " 1,\n",
       " 4,\n",
       " 1,\n",
       " 4,\n",
       " 3,\n",
       " 4,\n",
       " 4,\n",
       " 4,\n",
       " 4,\n",
       " 2,\n",
       " 4,\n",
       " 3,\n",
       " 2,\n",
       " 4,\n",
       " 3,\n",
       " 4,\n",
       " 1,\n",
       " 3,\n",
       " 4,\n",
       " 2,\n",
       " 1,\n",
       " 4,\n",
       " 4,\n",
       " 2,\n",
       " 3,\n",
       " 1,\n",
       " 4,\n",
       " 4,\n",
       " 3,\n",
       " 2,\n",
       " 1,\n",
       " 4,\n",
       " 1,\n",
       " 5,\n",
       " 5,\n",
       " 5,\n",
       " 5,\n",
       " 4,\n",
       " 5,\n",
       " 1,\n",
       " 5,\n",
       " 3,\n",
       " 1,\n",
       " 5,\n",
       " 2,\n",
       " 1,\n",
       " 5,\n",
       " 3,\n",
       " 5,\n",
       " 1,\n",
       " 5,\n",
       " 4,\n",
       " 1,\n",
       " 5,\n",
       " 3,\n",
       " 5,\n",
       " 5]"
      ]
     },
     "execution_count": 531,
     "metadata": {},
     "output_type": "execute_result"
    }
   ],
   "source": [
    "convert_to_num(\"ACTGTGTGTGTGCGGAGAGAGTGGGGCGTCGTGATGCAGGCTAGGTCAGANNNNGNANTANCANTNANGANTNN\")"
   ]
  },
  {
   "cell_type": "code",
   "execution_count": 532,
   "id": "3e5c4cba-794e-4420-b37c-4dcc6a96681e",
   "metadata": {
    "tags": []
   },
   "outputs": [],
   "source": [
    "def pad_sequence(sequence, desired_length):\n",
    "    sequence_length = len(sequence)\n",
    "    if sequence_length < desired_length:\n",
    "        num_pads_needed = desired_length - sequence_length\n",
    "        pad = []\n",
    "        for i in range(num_pads_needed):\n",
    "            pad.append(0)\n",
    "        result = sequence + pad\n",
    "        return result\n",
    "    else:\n",
    "        return sequence"
   ]
  },
  {
   "cell_type": "code",
   "execution_count": 533,
   "id": "c97d6a29-c895-4f5d-9d29-463da99d9ac9",
   "metadata": {
    "tags": []
   },
   "outputs": [
    {
     "data": {
      "text/plain": [
       "[1,\n",
       " 1,\n",
       " 1,\n",
       " 1,\n",
       " 1,\n",
       " 1,\n",
       " 1,\n",
       " 1,\n",
       " 1,\n",
       " 1,\n",
       " 1,\n",
       " 1,\n",
       " 1,\n",
       " 1,\n",
       " 1,\n",
       " 1,\n",
       " 1,\n",
       " 1,\n",
       " 1,\n",
       " 0,\n",
       " 0,\n",
       " 0,\n",
       " 0,\n",
       " 0,\n",
       " 0,\n",
       " 0,\n",
       " 0,\n",
       " 0,\n",
       " 0,\n",
       " 0,\n",
       " 0,\n",
       " 0,\n",
       " 0,\n",
       " 0,\n",
       " 0,\n",
       " 0,\n",
       " 0,\n",
       " 0]"
      ]
     },
     "execution_count": 533,
     "metadata": {},
     "output_type": "execute_result"
    }
   ],
   "source": [
    "all_sequences_data_target"
   ]
  },
  {
   "cell_type": "code",
   "execution_count": 534,
   "id": "15d59456-d46b-45ec-8693-3e3078428b7c",
   "metadata": {},
   "outputs": [],
   "source": [
    "def split_or_pad(sequence, desired_length):\n",
    "    seq_length = len(sequence)\n",
    "    if seq_length > desired_length:\n",
    "        new_sequences = []\n",
    "        for i in range(0, seq_length, desired_length):\n",
    "            current_chunk = sequence[i: i + desired_length]\n",
    "            current_chunk_num = convert_to_num(current_chunk)\n",
    "            current_chunk_num_padded = pad_sequence(current_chunk_num, desired_length)\n",
    "            new_sequences.append(current_chunk_num_padded)\n",
    "        return new_sequences\n",
    "    else:\n",
    "        sequence_num = convert_to_num(sequence)\n",
    "        return [pad_sequence(sequence_num, desired_length)]"
   ]
  },
  {
   "cell_type": "code",
   "execution_count": 535,
   "id": "85c15d0c-7192-4b0a-85a0-1b18420e3d8d",
   "metadata": {
    "tags": []
   },
   "outputs": [
    {
     "name": "stdout",
     "output_type": "stream",
     "text": [
      "0\n",
      "1\n",
      "2\n",
      "3\n",
      "4\n",
      "5\n",
      "6\n",
      "7\n",
      "8\n",
      "9\n",
      "10\n",
      "11\n",
      "12\n",
      "13\n",
      "14\n",
      "15\n",
      "16\n",
      "17\n",
      "18\n",
      "19\n",
      "20\n",
      "21\n",
      "22\n",
      "23\n",
      "24\n",
      "25\n",
      "26\n",
      "27\n",
      "28\n",
      "29\n",
      "30\n",
      "31\n",
      "32\n",
      "33\n",
      "34\n",
      "35\n",
      "36\n",
      "37\n"
     ]
    }
   ],
   "source": [
    "cleaned_data = []\n",
    "cleaned_data_targets = []\n",
    "for i in range(len(all_sequences_data)):\n",
    "    print(i)\n",
    "    current_sequence = all_sequences_data[i]\n",
    "    # if len(current_sequence) > 180000000:\n",
    "           # continue\n",
    "    cleaned_sequence_list = split_or_pad(current_sequence, 2020)\n",
    "    for s in cleaned_sequence_list:\n",
    "        cleaned_data.append(s)\n",
    "        cleaned_data_targets.append(all_sequences_data_target[i])"
   ]
  },
  {
   "cell_type": "code",
   "execution_count": 536,
   "id": "99cb0761-0ba0-461c-816a-58e76e12b470",
   "metadata": {
    "tags": []
   },
   "outputs": [
    {
     "name": "stdout",
     "output_type": "stream",
     "text": [
      "[1, 1, 1, 1, 1, 1, 1, 1, 1, 1, 1, 1, 1, 1, 1, 1, 1, 1, 1, 0, 0, 0, 0, 0, 0, 0, 0, 0, 0, 0, 0, 0, 0, 0, 0, 0, 0, 0]\n"
     ]
    }
   ],
   "source": [
    "print(cleaned_data_targets)"
   ]
  },
  {
   "cell_type": "code",
   "execution_count": 537,
   "id": "6f908a8e-e04c-4880-9789-5cbbfd66130f",
   "metadata": {},
   "outputs": [],
   "source": [
    "cleaned_data, cleaned_data_targets = shuffle(cleaned_data, cleaned_data_targets)"
   ]
  },
  {
   "cell_type": "code",
   "execution_count": 538,
   "id": "80271980-5dfd-47b2-b01e-2356132fee0c",
   "metadata": {
    "tags": []
   },
   "outputs": [
    {
     "data": {
      "text/plain": [
       "2020"
      ]
     },
     "execution_count": 538,
     "metadata": {},
     "output_type": "execute_result"
    }
   ],
   "source": [
    "len(cleaned_data[0])"
   ]
  },
  {
   "cell_type": "code",
   "execution_count": 539,
   "id": "9cdfe546-5b55-4e0d-a2ed-ca31915dc5ff",
   "metadata": {},
   "outputs": [
    {
     "name": "stdout",
     "output_type": "stream",
     "text": [
      "[0, 1, 0, 1, 0, 0, 1, 0, 0, 0, 0, 1, 1, 1, 1, 0, 1, 1, 0, 1, 0, 1, 0, 1, 1, 0, 0, 1, 1, 1, 0, 0, 0, 0, 0, 1, 1, 1]\n"
     ]
    }
   ],
   "source": [
    "print(cleaned_data_targets)"
   ]
  },
  {
   "cell_type": "code",
   "execution_count": 540,
   "id": "60433770-846d-40c5-8181-b57d384cdd64",
   "metadata": {},
   "outputs": [],
   "source": [
    "# num_sequences_desired = 1000\n",
    "# count_pathogenic_desired = 0\n",
    "# count_benign_desired = 0\n",
    "# cleaned_data_balanced = []\n",
    "# cleaned_data_balanced_targets = []\n",
    "# for i in range(len(cleaned_data)):\n",
    "#     sequence = cleaned_data[i]\n",
    "#     target = cleaned_data_targets[i]\n",
    "#     if target == 1:\n",
    "#         if count_pathogenic_desired < num_sequences_desired:\n",
    "#             cleaned_data_balanced.append(sequence)\n",
    "#             cleaned_data_balanced_targets.append(target)\n",
    "#             count_pathogenic_desired = count_pathogenic_desired + 1\n",
    "#     elif target == 0:\n",
    "#         if count_benign_desired < num_sequences_desired:\n",
    "#             cleaned_data_balanced.append(sequence)\n",
    "#             cleaned_data_balanced_targets.append(target)\n",
    "#             count_benign_desired = count_benign_desired + 1\n",
    "#     if count_pathogenic_desired == num_sequences_desired and count_benign_desired == num_sequences_desired:\n",
    "#         break"
   ]
  },
  {
   "cell_type": "code",
   "execution_count": 541,
   "id": "bb8ac083-5faf-4242-b64a-e6d0f44d2825",
   "metadata": {},
   "outputs": [],
   "source": [
    "# cleaned_data = cleaned_data_balanced\n",
    "# cleaned_data_targets = cleaned_data_balanced_targets"
   ]
  },
  {
   "cell_type": "code",
   "execution_count": 542,
   "id": "f2fea2fb-686d-443b-8053-5bc4a544bf33",
   "metadata": {},
   "outputs": [
    {
     "name": "stdout",
     "output_type": "stream",
     "text": [
      "38\n",
      "38\n"
     ]
    }
   ],
   "source": [
    "print(len(cleaned_data))\n",
    "print(len(cleaned_data_targets))"
   ]
  },
  {
   "cell_type": "code",
   "execution_count": 543,
   "id": "a75f0a12-2a8c-49ea-9814-bf3f519fbbef",
   "metadata": {},
   "outputs": [
    {
     "ename": "NameError",
     "evalue": "name 'cleaned_data_balanced' is not defined",
     "output_type": "error",
     "traceback": [
      "\u001b[0;31m---------------------------------------------------------------------------\u001b[0m",
      "\u001b[0;31mNameError\u001b[0m                                 Traceback (most recent call last)",
      "Cell \u001b[0;32mIn[543], line 1\u001b[0m\n\u001b[0;32m----> 1\u001b[0m \u001b[38;5;28mprint\u001b[39m(\u001b[38;5;28mlen\u001b[39m(\u001b[43mcleaned_data_balanced\u001b[49m))\n\u001b[1;32m      2\u001b[0m \u001b[38;5;28mprint\u001b[39m(\u001b[38;5;28mlen\u001b[39m(cleaned_data_balanced_targets))\n",
      "\u001b[0;31mNameError\u001b[0m: name 'cleaned_data_balanced' is not defined"
     ]
    }
   ],
   "source": [
    "print(len(cleaned_data_balanced))\n",
    "print(len(cleaned_data_balanced_targets))"
   ]
  },
  {
   "cell_type": "code",
   "execution_count": 544,
   "id": "0276b9c6-0447-4f9d-93bf-aa0fbc76d5bd",
   "metadata": {
    "tags": []
   },
   "outputs": [
    {
     "name": "stdout",
     "output_type": "stream",
     "text": [
      "[0, 1, 0, 1, 0, 0, 1, 0, 0, 0, 0, 1, 1, 1, 1, 0, 1, 1, 0, 1, 0, 1, 0, 1, 1, 0, 0, 1, 1, 1, 0, 0, 0, 0, 0, 1, 1, 1]\n"
     ]
    }
   ],
   "source": [
    "print(cleaned_data_targets)"
   ]
  },
  {
   "cell_type": "code",
   "execution_count": 545,
   "id": "34d2f5fc-3468-4e1c-a734-042ea86c0d29",
   "metadata": {},
   "outputs": [],
   "source": [
    "cleaned_data, cleaned_data_targets = shuffle(cleaned_data, cleaned_data_targets)"
   ]
  },
  {
   "cell_type": "code",
   "execution_count": 546,
   "id": "ca27b00d-95d4-49b0-a831-c9c7356fb458",
   "metadata": {},
   "outputs": [
    {
     "name": "stdout",
     "output_type": "stream",
     "text": [
      "19\n"
     ]
    }
   ],
   "source": [
    "print(np.sum(cleaned_data_targets))"
   ]
  },
  {
   "cell_type": "code",
   "execution_count": 547,
   "id": "13f511c0-c3ea-437e-a8d8-27381deb3f7e",
   "metadata": {},
   "outputs": [
    {
     "ename": "NameError",
     "evalue": "name 'cleaned_data_balanced_targets' is not defined",
     "output_type": "error",
     "traceback": [
      "\u001b[0;31m---------------------------------------------------------------------------\u001b[0m",
      "\u001b[0;31mNameError\u001b[0m                                 Traceback (most recent call last)",
      "Cell \u001b[0;32mIn[547], line 1\u001b[0m\n\u001b[0;32m----> 1\u001b[0m \u001b[38;5;28mprint\u001b[39m(np\u001b[38;5;241m.\u001b[39msum(\u001b[43mcleaned_data_balanced_targets\u001b[49m))\n",
      "\u001b[0;31mNameError\u001b[0m: name 'cleaned_data_balanced_targets' is not defined"
     ]
    }
   ],
   "source": [
    "print(np.sum(cleaned_data_balanced_targets))"
   ]
  },
  {
   "cell_type": "code",
   "execution_count": 548,
   "id": "974f4f63-76ea-456c-ad84-0158d88f7c56",
   "metadata": {
    "tags": []
   },
   "outputs": [
    {
     "name": "stdout",
     "output_type": "stream",
     "text": [
      "[3, 4, 1, 2, 1, 4, 1, 4, 2, 1, 1, 3, 1, 2, 3, 2, 3, 4, 3, 2, 4, 2, 1, 1, 1, 1, 1, 1, 1, 1, 1, 1, 1, 1, 4, 1, 1, 3, 1, 2, 3, 4, 4, 1, 4, 4, 2, 3, 4, 4, 4, 2, 4, 1, 4, 4, 3, 4, 4, 2, 3, 2, 1, 2, 1, 2, 2, 3, 4, 3, 1, 1, 3, 2, 2, 2, 1, 4, 2, 1, 3, 3, 3, 3, 4, 4, 4, 1, 3, 4, 2, 2, 1, 4, 1, 4, 4, 2, 4, 4, 4, 2, 4, 4, 1, 1, 3, 1, 3, 2, 3, 3, 4, 1, 4, 2, 3, 2, 1, 4, 4, 1, 4, 3, 3, 2, 4, 1, 4, 1, 2, 2, 1, 4, 2, 2, 3, 1, 2, 1, 2, 1, 1, 3, 1, 3, 4, 2, 3, 2, 2, 1, 1, 1, 2, 4, 2, 2, 4, 2, 2, 3, 2, 3, 1, 2, 1, 1, 1, 1, 2, 1, 3, 1, 2, 1, 4, 1, 1, 1, 2, 3, 1, 4, 2, 2, 4, 4, 4, 3, 4, 3, 4, 4, 3, 4, 4, 2, 4, 3, 4, 2, 2, 2, 2, 3, 4, 3, 4, 4, 3, 2, 2, 3, 1, 4, 2, 3, 1, 2, 3, 3, 4, 4, 4, 1, 4, 4, 3, 3, 4, 1, 4, 4, 2, 4, 4, 4, 1, 4, 4, 1, 3, 2, 4, 2, 3, 3, 4, 1, 4, 2, 3, 2, 4, 4, 4, 1, 4, 4, 3, 2, 4, 1, 4, 4, 2, 3, 4, 2, 1, 1, 3, 4, 1, 4, 2, 2, 4, 1, 4, 1, 3, 4, 4, 3, 4, 2, 2, 1, 2, 3, 4, 2, 1, 2, 3, 2, 3, 4, 1, 2, 4, 1, 2, 1, 4, 1, 4, 2, 4, 1, 4, 1, 2, 3, 2, 2, 4, 3, 2, 3, 2, 1, 1, 1, 1, 2, 1, 1, 1, 2, 1, 1, 2, 1, 1, 1, 3, 1, 1, 4, 4, 3, 3, 4, 4, 4, 4, 4, 1, 3, 2, 1, 1, 1, 3, 1, 3, 2, 3, 3, 2, 3, 1, 4, 3, 4, 3, 3, 3, 1, 1, 4, 4, 1, 3, 2, 3, 4, 2, 2, 4, 2, 2, 3, 3, 2, 2, 3, 3, 2, 2, 3, 4, 2, 2, 2, 2, 2, 1, 3, 4, 3, 3, 3, 4, 3, 2, 3, 3, 3, 2, 2, 3, 3, 4, 3, 3, 3, 4, 3, 2, 3, 3, 3, 1, 3, 1, 3, 1, 4, 1, 3, 2, 1, 1, 4, 2, 1, 4, 4, 3, 3, 3, 3, 1, 1, 1, 3, 3, 2, 2, 3, 1, 4, 3, 1, 4, 4, 1, 4, 2, 3, 3, 1, 2, 1, 3, 3, 3, 1, 2, 3, 3, 3, 3, 2, 2, 1, 1, 4, 4, 4, 4, 4, 1, 4, 4, 4, 4, 4, 1, 1, 3, 1, 1, 1, 3, 1, 3, 2, 3, 1, 2, 1, 2, 1, 2, 1, 2, 1, 2, 1, 2, 1, 2, 1, 2, 1, 2, 1, 2, 1, 2, 1, 2, 1, 2, 1, 2, 1, 2, 1, 2, 1, 2, 1, 2, 1, 2, 1, 2, 3, 4, 4, 1, 4, 3, 3, 2, 4, 1, 4, 1, 2, 4, 1, 4, 4, 2, 2, 3, 1, 1, 4, 2, 1, 1, 2, 1, 3, 4, 2, 2, 4, 1, 1, 1, 2, 2, 2, 2, 4, 3, 2, 3, 2, 3, 1, 2, 3, 1, 1, 1, 3, 1, 2, 1, 1, 1, 1, 1, 1, 3, 1, 4, 2, 3, 4, 1, 4, 2, 4, 3, 4, 4, 3, 4, 4, 2, 4, 2, 1, 2, 4, 2, 2, 3, 1, 3, 1, 4, 3, 2, 2, 3, 1, 4, 2, 3, 1, 2, 3, 4, 4, 4, 4, 1, 4, 4, 2, 3, 4, 1, 4, 4, 3, 4, 4, 4, 1, 4, 4, 1, 3, 2, 4, 2, 3, 3, 4, 1, 4, 2, 2, 2, 1, 1, 4, 1, 1, 4, 3, 2, 4, 1, 4, 4, 2, 3, 4, 2, 1, 4, 3, 4, 1, 4, 2, 2, 4, 1, 4, 1, 3, 2, 4, 2, 4, 2, 2, 4, 2, 3, 4, 2, 1, 2, 3, 2, 2, 1, 4, 2, 2, 3, 4, 1, 4, 2, 4, 1, 2, 1, 4, 4, 4, 2, 4, 1, 4, 4, 2, 3, 2, 3, 4, 3, 2, 3, 2, 1, 1, 1, 1, 2, 1, 1, 1, 2, 1, 1, 1, 2, 1, 1, 1, 1, 1, 1, 1, 1, 1, 1, 4, 4, 1, 1, 1, 4, 4, 1, 1, 1, 3, 1, 3, 1, 1, 2, 1, 2, 1, 4, 3, 4, 1, 1, 1, 3, 4, 1, 1, 1, 4, 4, 1, 3, 3, 4, 1, 4, 1, 4, 1, 1, 1, 3, 4, 1, 1, 1, 1, 1, 3, 1, 3, 1, 2, 1, 2, 4, 2, 2, 1, 2, 1, 1, 1, 3, 4, 3, 4, 4, 4, 1, 4, 4, 4, 2, 4, 1, 3, 1, 1, 2, 2, 1, 2, 3, 2, 4, 3, 1, 4, 1, 1, 1, 4, 2, 4, 3, 4, 1, 4, 1, 1, 4, 3, 3, 1, 2, 3, 1, 2, 1, 1, 4, 2, 4, 4, 3, 2, 2, 3, 2, 2, 2, 4, 4, 2, 2, 1, 2, 2, 4, 3, 1, 2, 3, 4, 3, 3, 2, 2, 4, 2, 3, 2, 2, 2, 1, 4, 1, 1, 4, 2, 2, 2, 2, 4, 4, 4, 2, 4, 4, 2, 4, 4, 1, 1, 4, 3, 2, 4, 3, 2, 1, 2, 3, 2, 3, 3, 1, 1, 4, 1, 1, 4, 4, 4, 1, 2, 4, 4, 4, 4, 2, 2, 2, 2, 1, 2, 4, 2, 3, 4, 2, 4, 2, 1, 2, 2, 2, 4, 2, 4, 4, 4, 3, 3, 3, 4, 2, 3, 1, 3, 4, 4, 2, 4, 1, 3, 4, 1, 4, 2, 1, 4, 2, 4, 4, 2, 4, 4, 2, 1, 4, 3, 4, 4, 3, 4, 4, 2, 4, 4, 2, 4, 3, 2, 2, 2, 4, 4, 1, 4, 2, 1, 4, 4, 1, 4, 4, 1, 3, 3, 2, 2, 4, 3, 4, 2, 3, 4, 3, 3, 2, 2, 4, 4, 2, 4, 2, 4, 4, 2, 1, 2, 1, 4, 4, 2, 2, 1, 4, 4, 3, 4, 1, 4, 4, 3, 2, 4, 2, 1, 4, 2, 2, 1, 4, 3, 4, 2, 1, 4, 3, 2, 3, 2, 2, 2, 3, 1, 3, 3, 1, 4, 2, 4, 2, 3, 2, 3, 2, 1, 4, 2, 1, 2, 2, 2, 3, 3, 2, 3, 3, 2, 2, 4, 4, 2, 2, 2, 1, 1, 2, 3, 2, 3, 2, 2, 3, 3, 2, 2, 4, 2, 1, 4, 2, 2, 3, 2, 4, 4, 4, 1, 2, 1, 4, 2, 1, 3, 2, 1, 1, 4, 3, 2, 4, 1, 3, 2, 2, 4, 2, 3, 2, 1, 2, 3, 4, 4, 1, 4, 3, 3, 4, 3, 4, 4, 3, 2, 2, 4, 2, 4, 3, 3, 3, 3, 3, 2, 3, 1, 2, 4, 3, 2, 3, 3, 3, 3, 2, 2, 2, 1, 2, 3, 2, 2, 4, 3, 3, 2, 2, 2, 3, 4, 2, 4, 1, 1, 2, 2, 1, 2, 1, 3, 2, 2, 4, 2, 1, 1, 4, 2, 3, 2, 2, 3, 3, 2, 2, 3, 2, 4, 1, 4, 2, 1, 4, 3, 3, 3, 4, 4, 4, 2, 3, 2, 2, 3, 3, 4, 1, 3, 1, 4, 2, 4, 3, 3, 4, 1, 4, 3, 4, 4, 1, 4, 4, 2, 2, 2, 3, 4, 2, 2, 4, 2, 4, 1, 2, 3, 3, 4, 4, 2, 1, 4, 3, 1, 4, 2, 3, 3, 1, 3, 3, 3, 3, 4, 3, 3, 2, 1, 2, 3, 2, 2, 3, 2, 3, 2, 3, 4, 4, 2, 3, 4, 4, 3, 4, 3, 4, 4, 4, 4, 4, 1, 4, 4, 3, 4, 4, 4, 4, 4, 2, 1, 3, 3, 1, 4, 4, 2, 2, 1, 4, 4, 4, 3, 4, 1, 1, 4, 2, 1, 4, 4, 4, 4, 1, 1, 2, 2, 1, 2, 3, 3, 1, 4, 4, 1, 4, 3, 2, 3, 4, 3, 3, 1, 1, 4, 1, 3, 4, 1, 3, 2, 3, 4, 1, 1, 2, 3, 3, 2, 1, 4, 1, 1, 2, 1, 1, 4, 1, 3, 4, 3, 3, 1, 3, 3, 1, 1, 2, 1, 4, 1, 4, 3, 4, 1, 1, 1, 4, 3, 1, 3, 3, 3, 4, 4, 1, 3, 3, 2, 3, 4, 4, 4, 3, 1, 3, 1, 3, 3, 3, 3, 4, 1, 1, 1, 3, 2, 4, 4, 1, 4, 4, 2, 1, 1, 2, 1, 4, 4, 3, 3, 3, 3, 3, 2, 1, 4, 1, 3, 1, 4, 1, 3, 3, 2, 4, 1, 3, 1, 1, 2, 4, 4, 1, 4, 4, 3, 3, 1, 3, 2, 2, 3, 4, 1, 1, 3, 1, 4, 3, 3, 4, 1, 1, 1, 1, 4, 1, 3, 1, 1, 1, 4, 3, 3, 4, 2, 2, 3, 3, 3, 3, 4, 2, 3, 4, 1, 4, 4, 3, 4, 4, 4, 1, 1, 1, 4, 1, 4, 1, 1, 4, 1, 3, 3, 4, 2, 2, 1, 4, 3, 1, 4, 1, 4, 2, 1, 4, 4, 3, 3, 3, 2, 3, 2, 1, 4, 4, 1, 4, 3, 3, 2, 1, 4, 3, 2, 3, 3, 4, 4, 4, 2, 1, 3, 1, 4, 2, 1, 3, 4, 4, 3, 1, 4, 4, 4, 4, 3, 4, 1, 1, 3, 3, 3, 4, 4, 2, 3, 4, 4, 1, 4, 3, 4, 1, 4, 3, 3, 4, 4, 1, 4, 1, 4, 3, 1, 4, 4, 1, 4, 1, 1, 4, 1, 4, 1, 1, 1, 3, 2, 2, 1, 1, 4, 4, 2, 1, 1, 2, 1, 3, 3, 3, 4, 1, 2, 2, 1, 4, 2, 2, 3, 4, 4, 4, 2, 1, 1, 2, 1, 3, 1, 4, 3, 4, 3, 4, 1, 2, 3, 2, 2, 4, 1, 4, 3, 2, 3, 4, 2, 1, 1, 1, 1, 1, 3, 3, 1, 4, 1, 2, 4, 4, 4, 3, 4, 3, 3, 4, 3, 4, 4, 3, 4, 2, 4, 2, 4, 3, 2, 3, 4, 3, 4, 4, 3, 2, 3, 2, 1, 4, 2, 3, 1, 2, 2, 3, 4, 4, 1, 1, 4, 4, 3, 3, 2, 1, 4, 4, 2, 2, 3, 3, 4, 4, 1, 1, 4, 4, 2, 3, 2, 1, 4, 4, 4, 1, 4, 4, 3, 4, 4, 1, 4, 4, 2, 3, 4, 2, 1, 4, 3, 4, 1, 3, 2, 3, 4, 3, 4, 1, 3, 3, 4, 2, 4, 2, 2, 3, 2, 3, 4, 2, 1, 2, 3, 2, 2, 1, 4, 2, 2, 3, 4, 4, 4, 2, 4, 1, 2, 1, 4, 1, 4, 2, 2, 1, 4, 1, 2, 2, 2, 3, 4, 3, 2, 3, 3, 1, 1, 1, 1, 2, 1, 1, 1, 1, 3, 1, 1, 1, 2, 4, 4, 2, 2, 4, 4, 4, 2, 4, 2, 4, 4, 3, 4, 4, 2, 3, 2, 1, 1, 4, 2, 2, 3, 4, 3, 1, 1, 3, 2, 2, 2, 1, 4, 2, 1, 2, 3, 3, 3, 4, 4, 4, 1, 4, 4, 2, 2, 4, 1, 4, 4, 2, 4, 4, 2, 2, 4, 4, 1, 3, 2, 1, 2, 1, 1, 4, 4, 3, 2, 1, 4, 4, 1, 4, 1, 3, 2, 4, 1, 4, 1, 2, 2, 1, 3, 2, 2, 3, 4, 4, 2, 3, 1, 1, 2, 1, 2, 4, 4, 3, 4, 1, 1, 1, 2, 2, 2, 2, 4, 3, 2, 3, 2, 3, 0, 0, 0, 0, 0, 0, 0, 0, 0, 0, 0, 0, 0, 0, 0, 0, 0, 0, 0]\n"
     ]
    }
   ],
   "source": [
    "print(cleaned_data[-1])"
   ]
  },
  {
   "cell_type": "code",
   "execution_count": 549,
   "id": "9017511b-b2dc-44d8-a52c-e1e2bbda768e",
   "metadata": {},
   "outputs": [
    {
     "name": "stdout",
     "output_type": "stream",
     "text": [
      "2020\n"
     ]
    }
   ],
   "source": [
    "print(len(cleaned_data[1]))"
   ]
  },
  {
   "cell_type": "code",
   "execution_count": 550,
   "id": "d5007505-89cb-45c6-bc5b-bf4d2ec85686",
   "metadata": {},
   "outputs": [],
   "source": [
    "n_input, n_hidden, n_out, batch_size, learning_rate = 2020, 500, 1, 4, 0.0001"
   ]
  },
  {
   "cell_type": "code",
   "execution_count": 551,
   "id": "82043bd2-eed4-4a6f-a847-65a3dc5fb327",
   "metadata": {},
   "outputs": [
    {
     "name": "stdout",
     "output_type": "stream",
     "text": [
      "<class 'list'>\n"
     ]
    }
   ],
   "source": [
    "print(type(cleaned_data[0]))"
   ]
  },
  {
   "cell_type": "code",
   "execution_count": 552,
   "id": "01e7105a-e018-4491-884d-0c17e02e2155",
   "metadata": {},
   "outputs": [],
   "source": [
    "def convert_data_to_batch_size_tensor(cleaned_data, i, j):\n",
    "    cleaned_data = cleaned_data[i:j]\n",
    "    xs = np.array([],dtype = np.float64).reshape(0, len(cleaned_data[0]))\n",
    "    for sequence in cleaned_data:\n",
    "        sequence_list = [*sequence]\n",
    "        sequence_array = np.asarray(sequence_list)\n",
    "        sequence_array_float = sequence_array.astype(np.float64)\n",
    "        xs = np.vstack([sequence_array_float, xs])\n",
    "    return xs"
   ]
  },
  {
   "cell_type": "code",
   "execution_count": 553,
   "id": "8dc775ba-606a-4c6b-8e50-ab72999a5a74",
   "metadata": {},
   "outputs": [],
   "source": [
    "t = convert_data_to_batch_size_tensor(cleaned_data, 0, 4)"
   ]
  },
  {
   "cell_type": "code",
   "execution_count": 554,
   "id": "4fd31ce9-aa80-46b4-88af-477c387d10c2",
   "metadata": {},
   "outputs": [],
   "source": [
    "t_target = np.asarray(cleaned_data_targets[0:38]).reshape(38,1)"
   ]
  },
  {
   "cell_type": "code",
   "execution_count": 555,
   "id": "d2109b34-1d95-4848-aefe-b36cecbacac0",
   "metadata": {},
   "outputs": [
    {
     "data": {
      "text/plain": [
       "(38, 1)"
      ]
     },
     "execution_count": 555,
     "metadata": {},
     "output_type": "execute_result"
    }
   ],
   "source": [
    "t_target.shape"
   ]
  },
  {
   "cell_type": "code",
   "execution_count": 556,
   "id": "366697b7-eaf5-4468-8471-6ccb8d1ad7bc",
   "metadata": {},
   "outputs": [],
   "source": [
    "data_x = torch.FloatTensor(t)"
   ]
  },
  {
   "cell_type": "code",
   "execution_count": 557,
   "id": "65753665-a34c-4337-9c7a-fb0f20961980",
   "metadata": {},
   "outputs": [],
   "source": [
    "data_y = torch.FloatTensor(t_target)"
   ]
  },
  {
   "cell_type": "code",
   "execution_count": 558,
   "id": "1bde0262-596a-41f1-b564-28c1ebc2ebc3",
   "metadata": {},
   "outputs": [
    {
     "name": "stdout",
     "output_type": "stream",
     "text": [
      "torch.Size([4, 2020])\n"
     ]
    }
   ],
   "source": [
    "print(data_x.size())"
   ]
  },
  {
   "cell_type": "code",
   "execution_count": 559,
   "id": "b9f04e19-f1b4-4928-a3e5-cf26329f832b",
   "metadata": {},
   "outputs": [
    {
     "name": "stdout",
     "output_type": "stream",
     "text": [
      "torch.Size([38, 1])\n"
     ]
    }
   ],
   "source": [
    "print(data_y.size())"
   ]
  },
  {
   "cell_type": "code",
   "execution_count": 560,
   "id": "edad9697-dbb7-4c95-86d3-a1adc94e3d8d",
   "metadata": {},
   "outputs": [],
   "source": [
    "model = nn.Sequential(nn.Linear(n_input, n_hidden), nn.ReLU(), nn.Linear(n_hidden, n_out), nn.Sigmoid())"
   ]
  },
  {
   "cell_type": "code",
   "execution_count": 561,
   "id": "2c927536-9cd3-4e3e-8cfb-2fd2e87e0d4f",
   "metadata": {},
   "outputs": [
    {
     "name": "stdout",
     "output_type": "stream",
     "text": [
      "Sequential(\n",
      "  (0): Linear(in_features=2020, out_features=500, bias=True)\n",
      "  (1): ReLU()\n",
      "  (2): Linear(in_features=500, out_features=1, bias=True)\n",
      "  (3): Sigmoid()\n",
      ")\n"
     ]
    }
   ],
   "source": [
    "print(model)"
   ]
  },
  {
   "cell_type": "code",
   "execution_count": 562,
   "id": "f846ed09-b6b0-4c42-b317-9a03da1e3d29",
   "metadata": {},
   "outputs": [],
   "source": [
    "loss_function = nn.MSELoss()\n",
    "optimizer = torch.optim.SGD(model.parameters(), lr = learning_rate)"
   ]
  },
  {
   "cell_type": "code",
   "execution_count": 563,
   "id": "0bf22acf-90f7-4caa-84f2-e25cb8b907d0",
   "metadata": {
    "tags": []
   },
   "outputs": [
    {
     "name": "stdout",
     "output_type": "stream",
     "text": [
      "1\n",
      "2\n",
      "3\n",
      "4\n",
      "5\n",
      "6\n",
      "7\n"
     ]
    }
   ],
   "source": [
    "losses = []\n",
    "batch_num = 0\n",
    "batch_length = 4\n",
    "for i in range(0,28,batch_length):\n",
    "    t = convert_data_to_batch_size_tensor(cleaned_data, i, i + batch_length)\n",
    "    t_target = np.asarray(cleaned_data_targets[i:i+batch_length]).reshape(batch_length,1)\n",
    "    data_x = torch.FloatTensor(t)\n",
    "    data_y = torch.FloatTensor(t_target)\n",
    "    pred_y = model(data_x)\n",
    "    loss = loss_function(pred_y, data_y)\n",
    "    losses.append(loss.item())\n",
    "    model.zero_grad()\n",
    "    loss.backward()\n",
    "    optimizer.step()\n",
    "    batch_num = batch_num + 1\n",
    "    print(batch_num)"
   ]
  },
  {
   "cell_type": "code",
   "execution_count": 564,
   "id": "daa77184-1494-4f3c-91aa-8714bcb36635",
   "metadata": {
    "tags": []
   },
   "outputs": [
    {
     "data": {
      "text/plain": [
       "[0.31946253776550293,\n",
       " 0.07545605301856995,\n",
       " 0.24223503470420837,\n",
       " 0.08669190853834152,\n",
       " 0.33214452862739563,\n",
       " 0.5021647214889526,\n",
       " 0.3150028586387634]"
      ]
     },
     "execution_count": 564,
     "metadata": {},
     "output_type": "execute_result"
    }
   ],
   "source": [
    "losses"
   ]
  },
  {
   "cell_type": "code",
   "execution_count": 565,
   "id": "20241a2e-8e75-4d7e-bd1f-f335329affaa",
   "metadata": {
    "tags": []
   },
   "outputs": [
    {
     "data": {
      "image/png": "[encoded data removed]",
      "text/plain": [
       "<Figure size 640x480 with 1 Axes>"
      ]
     },
     "metadata": {},
     "output_type": "display_data"
    }
   ],
   "source": [
    "plt.plot(losses)\n",
    "plt.ylabel(\"losses\")\n",
    "plt.xlabel(\"epoch\")\n",
    "plt.title(\"Learning Rate %f\" %(learning_rate))\n",
    "plt.show()"
   ]
  },
  {
   "cell_type": "code",
   "execution_count": 566,
   "id": "3f0778c0-7d04-465f-93d7-8c240de1c1c4",
   "metadata": {},
   "outputs": [],
   "source": [
    "# model = nn.Sequential(nn.Linear(n_input, n_hidden), nn.ReLU(), nn.Linear(n_hidden, n_out), nn.Sigmoid())\n",
    "model = nn.Sequential(nn.Linear(n_input, n_hidden_1), nn.ReLU(), nn.Linear(n_hidden_1, n_hidden_2), nn.ReLU(), nn.Linear(n_hidden_2, n_out), nn.Sigmoid())"
   ]
  },
  {
   "cell_type": "code",
   "execution_count": 567,
   "id": "ce7b01a3-ebb2-4fad-ad5a-3a8be25741dc",
   "metadata": {},
   "outputs": [],
   "source": [
    "torch.save(model.state_dict(), \"sequence_model.pt\")"
   ]
  },
  {
   "cell_type": "code",
   "execution_count": 568,
   "id": "34c4f275-b28e-4a5a-a3ee-1d18594db93a",
   "metadata": {},
   "outputs": [
    {
     "data": {
      "text/plain": [
       "Sequential(\n",
       "  (0): Linear(in_features=2020, out_features=500, bias=True)\n",
       "  (1): ReLU()\n",
       "  (2): Linear(in_features=500, out_features=50, bias=True)\n",
       "  (3): ReLU()\n",
       "  (4): Linear(in_features=50, out_features=1, bias=True)\n",
       "  (5): Sigmoid()\n",
       ")"
      ]
     },
     "execution_count": 568,
     "metadata": {},
     "output_type": "execute_result"
    }
   ],
   "source": [
    "model.load_state_dict(torch.load(\"sequence_model.pt\"))\n",
    "model.eval()"
   ]
  },
  {
   "cell_type": "code",
   "execution_count": null,
   "id": "c8c34bfa-9f1f-4623-8cd9-f1ca9b843188",
   "metadata": {},
   "outputs": [],
   "source": []
  },
  {
   "cell_type": "code",
   "execution_count": 569,
   "id": "90fa0585-8212-41fb-aaa9-19c70554cec0",
   "metadata": {
    "tags": []
   },
   "outputs": [
    {
     "name": "stdout",
     "output_type": "stream",
     "text": [
      "1\n",
      "Predicted value:  [1.]  Actual target value:  [0]\n",
      "Predicted value:  [1.]  Actual target value:  [1]\n",
      "2\n",
      "Predicted value:  [1.]  Actual target value:  [1]\n",
      "Predicted value:  [1.]  Actual target value:  [1]\n",
      "1\n",
      "Predicted value:  [1.]  Actual target value:  [1]\n",
      "Predicted value:  [1.]  Actual target value:  [0]\n",
      "1\n",
      "Predicted value:  [1.]  Actual target value:  [1]\n",
      "Predicted value:  [1.]  Actual target value:  [0]\n",
      "2\n",
      "Predicted value:  [1.]  Actual target value:  [1]\n",
      "Predicted value:  [1.]  Actual target value:  [1]\n"
     ]
    }
   ],
   "source": [
    "iter_num = 0\n",
    "batch_length = 2\n",
    "percentage_correct = []\n",
    "for i in range(28,38,batch_length):\n",
    "    t = convert_data_to_batch_size_tensor(cleaned_data, i, i + batch_length)\n",
    "    t_target = np.asarray(cleaned_data_targets[i:i+batch_length]).reshape(batch_length,1)\n",
    "    data_x = torch.FloatTensor(t)\n",
    "    data_y = torch.FloatTensor(t_target)\n",
    "    pred_y = model(data_x)\n",
    "    pred_y_array = pred_y.detach().numpy()\n",
    "    pred_y_array = np.round(pred_y_array)\n",
    "    num_correct = (t_target == pred_y_array).sum()\n",
    "    percentage_correct.append(num_correct/batch_length)\n",
    "    print(num_correct)\n",
    "    for j in range(batch_length):\n",
    "        print(\"Predicted value: \", pred_y_array[j], \" Actual target value: \", t_target[j])"
   ]
  },
  {
   "cell_type": "code",
   "execution_count": 570,
   "id": "d1bcef75-fcf0-49cb-b3dd-4602ac96fecb",
   "metadata": {},
   "outputs": [
    {
     "data": {
      "text/plain": [
       "0.7"
      ]
     },
     "execution_count": 570,
     "metadata": {},
     "output_type": "execute_result"
    }
   ],
   "source": [
    "np.mean(percentage_correct)"
   ]
  },
  {
   "cell_type": "code",
   "execution_count": 571,
   "id": "037a239b-0ce6-4652-8732-4d290c6a6abe",
   "metadata": {
    "tags": []
   },
   "outputs": [],
   "source": [
    "torch.save(model.state_dict(), \"sequence_model_3.pt\")"
   ]
  },
  {
   "cell_type": "code",
   "execution_count": null,
   "id": "fa8e97ae-1dfe-4129-9c4a-9f87ba530d90",
   "metadata": {},
   "outputs": [],
   "source": []
  }
 ],
 "metadata": {
  "kernelspec": {
   "display_name": "Python 3 (ipykernel)",
   "language": "python",
   "name": "python3"
  },
  "language_info": {
   "codemirror_mode": {
    "name": "ipython",
    "version": 3
   },
   "file_extension": ".py",
   "mimetype": "text/x-python",
   "name": "python",
   "nbconvert_exporter": "python",
   "pygments_lexer": "ipython3",
   "version": "3.10.8"
  }
 },
 "nbformat": 4,
 "nbformat_minor": 5
}
